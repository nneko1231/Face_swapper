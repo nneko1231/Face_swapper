{
  "nbformat": 4,
  "nbformat_minor": 0,
  "metadata": {
    "colab": {
      "provenance": [],
      "gpuType": "T4",
      "authorship_tag": "ABX9TyOgFq5+yznZR0m6CFYakUdG",
      "include_colab_link": true
    },
    "kernelspec": {
      "name": "python3",
      "display_name": "Python 3"
    },
    "language_info": {
      "name": "python"
    },
    "accelerator": "GPU"
  },
  "cells": [
    {
      "cell_type": "markdown",
      "metadata": {
        "id": "view-in-github",
        "colab_type": "text"
      },
      "source": [
        "<a href=\"https://colab.research.google.com/github/nneko1231/Face_swapper/blob/main/Face_swapper.ipynb\" target=\"_parent\"><img src=\"https://colab.research.google.com/assets/colab-badge.svg\" alt=\"Open In Colab\"/></a>"
      ]
    },
    {
      "cell_type": "code",
      "source": [
        "!git clone https://github.com/nneko1231/Face_swapper.git\n",
        "%cd Face_swapper\n",
        "!pip install -r requirements.txt"
      ],
      "metadata": {
        "id": "N2ham8P3AHFn"
      },
      "execution_count": null,
      "outputs": []
    },
    {
      "cell_type": "code",
      "source": [
        "!wget https://huggingface.co/ezioruan/inswapper_128.onnx/resolve/main/inswapper_128.onnx -O inswapper_128.onnx\n",
        "!mkdir checkpoints\n",
        "!mv inswapper_128.onnx ./checkpoints"
      ],
      "metadata": {
        "id": "_DqxJwatBwSF"
      },
      "execution_count": null,
      "outputs": []
    },
    {
      "cell_type": "code",
      "source": [
        "# Tentukan file source, target, dan output\n",
        "source_img = \"./data/source.jpg\"  # Ganti dengan nama file source yang diunggah\n",
        "target_img = \"./data/target.jpg\"  # Ganti dengan nama file target yang diunggah\n",
        "output_img = \"./data/output1.png\"  # Nama file output\n",
        "\n",
        "# Menjalankan script\n",
        "!python swapper.py --source_img {source_img} --target_img {target_img} --output_img {output_img}"
      ],
      "metadata": {
        "id": "nbRcKpBKAgkf"
      },
      "execution_count": null,
      "outputs": []
    }
  ]
}
